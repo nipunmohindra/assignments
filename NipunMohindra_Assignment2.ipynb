{
 "cells": [
  {
   "cell_type": "markdown",
   "metadata": {},
   "source": [
    "## Question 1"
   ]
  },
  {
   "cell_type": "code",
   "execution_count": 2,
   "metadata": {},
   "outputs": [
    {
     "name": "stdout",
     "output_type": "stream",
     "text": [
      "Please enter the score: 0.72\n",
      "C\n"
     ]
    }
   ],
   "source": [
    "#used float because of decimals\n",
    "score = float(input(\"Please enter the score: \"))  \n",
    "\n",
    "if score>1.0 or score<0.0:\n",
    "    print (\"error\")\n",
    "elif score>=0.9 :\n",
    "    print ('A')\n",
    "elif score>=0.8 :\n",
    "    print ('B')\n",
    "elif score>=0.7 :\n",
    "    print ('C')\n",
    "elif score>=0.6 :\n",
    "    print ('D')\n",
    "else :\n",
    "    print ('E')\n"
   ]
  },
  {
   "cell_type": "markdown",
   "metadata": {},
   "source": [
    "## Question 2"
   ]
  },
  {
   "cell_type": "code",
   "execution_count": 3,
   "metadata": {},
   "outputs": [
    {
     "name": "stdout",
     "output_type": "stream",
     "text": [
      "Please enter the CP of item: 50\n",
      "Please enter the SP of item: 80\n",
      "The profit is : 30\n"
     ]
    }
   ],
   "source": [
    "CP = int(input(\"Please enter the CP of item: \"))  \n",
    "SP = int(input(\"Please enter the SP of item: \"))\n",
    "#Using basic profit, loss definitions\n",
    "Profit_Loss= SP-CP   \n",
    "\n",
    "if (Profit_Loss>0):\n",
    "        \n",
    "        print(\"The profit is :\", Profit_Loss)\n",
    "    \n",
    "elif (Profit_Loss<0):\n",
    "    \n",
    "        print(\"The loss is : \", Profit_Loss)\n",
    "    \n",
    "else:\n",
    "        print(\"There is neither profit nor loss\")"
   ]
  },
  {
   "cell_type": "markdown",
   "metadata": {},
   "source": [
    "## Question 3"
   ]
  },
  {
   "cell_type": "code",
   "execution_count": 4,
   "metadata": {},
   "outputs": [
    {
     "name": "stdout",
     "output_type": "stream",
     "text": [
      "Please enter the year:2017\n",
      "2017 is not a Leap Year\n"
     ]
    }
   ],
   "source": [
    "year=int(input(\"Please enter the year:\"))\n",
    "\n",
    "#using basic conditions of a leap year\n",
    "\n",
    "if(year%4==0 and year%100!=0 or year%400==0):\n",
    "     print(year, \"is a Leap Year\")\n",
    "else:\n",
    "    print(year, \"is not a Leap Year\")"
   ]
  },
  {
   "cell_type": "markdown",
   "metadata": {},
   "source": [
    "## Question 4"
   ]
  },
  {
   "cell_type": "code",
   "execution_count": 6,
   "metadata": {},
   "outputs": [
    {
     "name": "stdout",
     "output_type": "stream",
     "text": [
      "Please enter a 5 digit number to be reversed: 11211\n",
      "The reverse of your number is:  11211\n",
      "The numbers are equal\n"
     ]
    }
   ],
   "source": [
    "num = input(\"Please enter a 5 digit number to be reversed: \")\n",
    "\n",
    "x = (num[::-1])  \n",
    "print(\"The reverse of your number is: \", x)\n",
    "\n",
    "if num == x:   \n",
    "    print(\"The numbers are equal\")\n",
    "\n",
    "else:\n",
    "    print(\"The numbers are not equal.\")\n"
   ]
  },
  {
   "cell_type": "markdown",
   "metadata": {},
   "source": [
    "## Question 5"
   ]
  },
  {
   "cell_type": "code",
   "execution_count": 8,
   "metadata": {},
   "outputs": [
    {
     "name": "stdout",
     "output_type": "stream",
     "text": [
      "Please enter the age of Ram: 5\n",
      "Please enter the age of Shyam: 4\n",
      "Please enter the age of Ajay: 8\n",
      "Shyam is youngest\n"
     ]
    }
   ],
   "source": [
    "r = int(input(\"Please enter the age of Ram: \"))\n",
    "s = int(input(\"Please enter the age of Shyam: \"))\n",
    "a = int(input(\"Please enter the age of Ajay: \")) \n",
    "\n",
    "if(r<s and r<a):\n",
    "\n",
    "    print(\"Ram is youngest\")\n",
    "\n",
    "if (s<r and s<a):\n",
    "\n",
    "    print(\"Shyam is youngest\")\n",
    "\n",
    "if (a<r and a<s):\n",
    "\n",
    "    print(\"Ajay is youngest\")"
   ]
  },
  {
   "cell_type": "markdown",
   "metadata": {},
   "source": [
    "## Question 6"
   ]
  },
  {
   "cell_type": "code",
   "execution_count": 9,
   "metadata": {},
   "outputs": [
    {
     "name": "stdout",
     "output_type": "stream",
     "text": [
      "Please enter angle 1 of the triangle: 58\n",
      "Please enter angle 2 of the triangle: 40\n",
      "Please enter angle 3 of the triangle: 21\n",
      "Triangle is not valid\n"
     ]
    }
   ],
   "source": [
    "x = input (\"Please enter angle 1 of the triangle: \")\n",
    "y = input (\"Please enter angle 2 of the triangle: \")\n",
    "z = input (\"Please enter angle 3 of the triangle: \")\n",
    "\n",
    "if x+y+z == 180 :   \n",
    "    print(\"Triangle is valid\")\n",
    "\n",
    "else :\n",
    "    print(\"Triangle is not valid\")"
   ]
  },
  {
   "cell_type": "markdown",
   "metadata": {},
   "source": [
    "## Question 7 "
   ]
  },
  {
   "cell_type": "code",
   "execution_count": 12,
   "metadata": {},
   "outputs": [
    {
     "name": "stdout",
     "output_type": "stream",
     "text": [
      "Please enter any number : -9\n",
      "9\n"
     ]
    }
   ],
   "source": [
    "x = int(input(\"Please enter any number : \"))\n",
    "answer=abs(x)\n",
    "print(answer)\n"
   ]
  },
  {
   "cell_type": "markdown",
   "metadata": {},
   "source": [
    "## Question 8"
   ]
  },
  {
   "cell_type": "code",
   "execution_count": 13,
   "metadata": {},
   "outputs": [
    {
     "name": "stdout",
     "output_type": "stream",
     "text": [
      "Please enter coordinate x1: 4\n",
      "Please enter coordinate x2: 5\n",
      "Please enter coordinate x3: 7\n",
      "Please enter coordinate y1: -5\n",
      "Please enter coordinate y2: -2\n",
      "Please enter coordinate y3: 0\n",
      "No\n"
     ]
    }
   ],
   "source": [
    "    x1 = int(input(\"Please enter coordinate x1: \"))\n",
    "    x2 = int(input(\"Please enter coordinate x2: \"))\n",
    "    x3 = int(input(\"Please enter coordinate x3: \"))\n",
    "    y1 = int(input(\"Please enter coordinate y1: \"))\n",
    "    y2 = int(input(\"Please enter coordinate y2: \"))\n",
    "    y3 = int(input(\"Please enter coordinate y3: \"))\n",
    "    \n",
    "    \n",
    "    k = x1 * (y2 - y3) + x2 * (y3 - y1) + x3 * (y1 - y2) \n",
    "  \n",
    "    if (k == 0): \n",
    "        print (\"Yes\")\n",
    "    else: \n",
    "        print (\"No\")"
   ]
  },
  {
   "cell_type": "markdown",
   "metadata": {},
   "source": [
    "## Question 9"
   ]
  },
  {
   "cell_type": "code",
   "execution_count": 14,
   "metadata": {},
   "outputs": [
    {
     "name": "stdout",
     "output_type": "stream",
     "text": [
      "Please enter the x coordinate: 2\n",
      "Please enter the y coordinate: 0\n",
      "Point lies on x-axis.\n"
     ]
    }
   ],
   "source": [
    "x = int(input(\"Please enter the x coordinate: \"))\n",
    "y = int(input(\"Please enter the y coordinate: \"))\n",
    "\n",
    "\n",
    "if x==0 and y==0:\n",
    "    print(\"Points lies on origin.\")\n",
    "if y==0 and x!=0:   \n",
    "    print(\"Point lies on x-axis.\")\n",
    "if x==0 and y!=0:   \n",
    "    print(\"Points lies on y-axis\")\n",
    "if x>0 and y>0:     \n",
    "    print(\"The point lies elsewhere\")"
   ]
  },
  {
   "cell_type": "markdown",
   "metadata": {},
   "source": [
    "## Question 10"
   ]
  },
  {
   "cell_type": "code",
   "execution_count": 19,
   "metadata": {},
   "outputs": [
    {
     "name": "stdout",
     "output_type": "stream",
     "text": [
      "Please enter the medical status if poor or excellent: excellent\n",
      "Please enter the age of person27\n",
      "Please enter if person lives in city or village: city\n",
      "Please enter if person is male or female: male\n",
      "Premium is 4 thousand and policy amount cannot exceed 2 lakhs\n"
     ]
    }
   ],
   "source": [
    "health=input('Please enter the medical status if poor or excellent: ')\n",
    "age=int(input('Please enter the age of person'))\n",
    "location=input('Please enter if person lives in city or village: ')\n",
    "sex=input('Please enter if person is male or female: ')\n",
    "\n",
    "if (health=='excellent') and (location=='city') and (sex=='male') and (age>25 and age<35):\n",
    "    print('Premium is 4 thousand and policy amount cannot exceed 2 lakhs')\n",
    "    \n",
    "elif (health=='excellent') and (location=='city') and (sex=='female') and (age>25 and age<35):\n",
    "    print('Premium is 3 thousand and policy amount cannot exceed 1 lakh')\n",
    "elif (health=='poor') and (location=='village') and (sex=='male') and (age>25 and age<35):\n",
    "    print('No information available')"
   ]
  },
  {
   "cell_type": "markdown",
   "metadata": {},
   "source": [
    "## Question 11"
   ]
  },
  {
   "cell_type": "code",
   "execution_count": 21,
   "metadata": {},
   "outputs": [
    {
     "name": "stdout",
     "output_type": "stream",
     "text": [
      "Please enter the hardness of the material: 54\n",
      "Please enter the carbon content of the material: 0.9\n",
      "Please enter the tensile strength of the material: 5800\n",
      "Grade 7\n"
     ]
    }
   ],
   "source": [
    "h=int(input('Please enter the hardness of the material: '))\n",
    "cc=float(input('Please enter the carbon content of the material: '))\n",
    "ts=int(input('Please enter the tensile strength of the material: '))\n",
    "\n",
    "if (h>50) and (cc<0.7) and (ts>5600):\n",
    "    print('Grade 10')\n",
    "elif (h>50) and (cc<0.7):\n",
    "    print('Grade 9')\n",
    "elif (cc<0.7) and (ts>5600):\n",
    "    print('Grade 8')\n",
    "elif (h>50) and (ts>5600):\n",
    "    print('Grade 7')\n",
    "elif (h>50) or (cc<0.7) or (ts>5600):\n",
    "    print('Grade 6')\n",
    "elif (h<50) and (cc>0.7) and (ts<5600):\n",
    "    print('Grade 5')\n",
    "    "
   ]
  },
  {
   "cell_type": "markdown",
   "metadata": {},
   "source": [
    "## Question 12"
   ]
  },
  {
   "cell_type": "code",
   "execution_count": 22,
   "metadata": {},
   "outputs": [
    {
     "name": "stdout",
     "output_type": "stream",
     "text": [
      "Please enter the number of days : 15\n",
      "You have to pay a fine of Rs.  75\n"
     ]
    }
   ],
   "source": [
    "days = int(input(\"Please enter the number of days : \"))\n",
    "\n",
    "if (days > 0 and days <= 5):\n",
    "        fine = 0.50 * days\n",
    "        print(\"You have to pay a fine of Rs. \", fine)\n",
    "if (days >= 6 and days <= 10):\n",
    "        fine = 1 * days\n",
    "        print(\"You have to pay a fine of Rs. \", fine)\n",
    "if (days > 10):\n",
    "        fine = 5 * days\n",
    "        print(\"You have to pay a fine of Rs. \", fine)\n",
    "        \n",
    "if (days > 30):  \n",
    "        print(\"Your membership is being cancelled\")  \n",
    "        "
   ]
  },
  {
   "cell_type": "markdown",
   "metadata": {},
   "source": [
    "## Question 13"
   ]
  },
  {
   "cell_type": "code",
   "execution_count": 23,
   "metadata": {},
   "outputs": [
    {
     "name": "stdout",
     "output_type": "stream",
     "text": [
      "Please enter the number of stocks: 10\n",
      "Pease enter the order: 5\n",
      "Please notify the credit statusno\n",
      "Credit is not OK. Please take required action.\n"
     ]
    }
   ],
   "source": [
    "stock = int(input(\"Please enter the number of stocks: \"))\n",
    "order = int(input(\"Pease enter the order: \"))\n",
    "credit = input(\"Please notify the credit status\")\n",
    "\n",
    "if order <= stock:\n",
    "    if credit == 'OK':\n",
    "        print(\"Supply has requirement\")\n",
    "    else:\n",
    "        print(\"Credit is not OK. Please take required action.\")\n",
    "elif order > stock:\n",
    "    if credit == 'OK':\n",
    "        print(\"The customer order is more than the stock, the item will be shipped.\")\n",
    "    else:\n",
    "        print(\"Credit is not OK. Please take required action.\")"
   ]
  },
  {
   "cell_type": "markdown",
   "metadata": {},
   "source": [
    "## Question 14"
   ]
  },
  {
   "cell_type": "code",
   "execution_count": 25,
   "metadata": {},
   "outputs": [
    {
     "name": "stdout",
     "output_type": "stream",
     "text": [
      "Please enter the time taken by worker : 5.4\n",
      "Worker has to leave.\n"
     ]
    }
   ],
   "source": [
    "t = float(input(\"Please enter the time taken by worker : \"))\n",
    "\n",
    "\n",
    "if (t >= 2 and t <= 3):\n",
    "        print(\"Highly Efficient.\")\n",
    "if (t > 3 and t <= 4):\n",
    "        print(\"Improve Speed. \")\n",
    "if (t > 4 and t <= 5):\n",
    "        print(\"Training should be provided.\")        \n",
    "if (t > 5):\n",
    "        print(\"Worker has to leave.\")\n",
    "        "
   ]
  },
  {
   "cell_type": "markdown",
   "metadata": {},
   "source": [
    "## Question 15"
   ]
  },
  {
   "cell_type": "code",
   "execution_count": 27,
   "metadata": {},
   "outputs": [
    {
     "name": "stdout",
     "output_type": "stream",
     "text": [
      "Please enter the percent marks in A : 68\n",
      "Please enter the percent marks in B : 44\n",
      " Student is allowed to reappear in an examination in B to qualify\n"
     ]
    }
   ],
   "source": [
    "a= int(input(\"Please enter the percent marks in A : \"))\n",
    "b =int(input(\"Please enter the percent marks in B : \"))\n",
    "if (a>=55 and b>=45):\n",
    "    print(\"Student is passed and student is qualified for a degree with A as the main subject and B as the subsidiary subject\")\n",
    "elif (a >= 65 and b<45):\n",
    "    print(\" Student is allowed to reappear in an examination in B to qualify\")\n",
    "elif (a>=45 and b>=55):\n",
    "    print(\"Passed\")\n",
    "else:\n",
    "    print(\"Student failed\")"
   ]
  },
  {
   "cell_type": "code",
   "execution_count": null,
   "metadata": {},
   "outputs": [],
   "source": []
  }
 ],
 "metadata": {
  "kernelspec": {
   "display_name": "Python 3",
   "language": "python",
   "name": "python3"
  },
  "language_info": {
   "codemirror_mode": {
    "name": "ipython",
    "version": 3
   },
   "file_extension": ".py",
   "mimetype": "text/x-python",
   "name": "python",
   "nbconvert_exporter": "python",
   "pygments_lexer": "ipython3",
   "version": "3.7.6"
  }
 },
 "nbformat": 4,
 "nbformat_minor": 4
}
