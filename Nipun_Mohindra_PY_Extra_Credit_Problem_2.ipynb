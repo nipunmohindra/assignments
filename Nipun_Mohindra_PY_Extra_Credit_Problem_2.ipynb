{
 "cells": [
  {
   "cell_type": "code",
   "execution_count": 1,
   "metadata": {},
   "outputs": [],
   "source": [
    "import random"
   ]
  },
  {
   "cell_type": "code",
   "execution_count": 2,
   "metadata": {},
   "outputs": [],
   "source": [
    "#defining the game into a variable named problem\n",
    "def problem():\n",
    "#predefining variables    \n",
    "    chance=0\n",
    "    x3=random.randint(0,9)\n",
    "    account=200\n",
    "    ewallet=5000\n",
    "#entering first condition and letting th user know his balance\n",
    "    while 1:\n",
    "        print('Your initial account balance and ewallet balance was: ', account, ewallet)\n",
    "        #asking user to withdraw money\n",
    "        withdraw=int(input('Please enter the amount of money you want to withdraw: '))\n",
    "        #using if condition to check eligibility of user to play\n",
    "        if (account + withdraw < 500):\n",
    "            account=account+withdraw\n",
    "            ewallet=ewallet-withdraw\n",
    "            print('You still do not have enough money to start playing, your account and ewallet balance is: ', account, ewallet)\n",
    "        #accordingly used else   \n",
    "        else:\n",
    "            account=account+withdraw\n",
    "            ewallet=ewallet-withdraw\n",
    "            print('Now you are ready to play the game, your new account and ewallet balance is: ',account, ewallet)\n",
    "            break\n",
    "         \n",
    "        \n",
    "#using 2nd while condition        \n",
    "    while chance<3:\n",
    "#playing the game and giving 3 cahnces accordingly    \n",
    "        chance=chance+1\n",
    "        guess3=int(input('Please enter any random integer between 0 and 9: '))\n",
    "        print('Your new account and ewallet balance is: ', account, ewallet)\n",
    "#exploring chance 1 and managing its rewards        \n",
    "        if guess3==x3 and chance==1:\n",
    "            account1=account+5000\n",
    "            print('You just won Rs 5000, your new balance is: ', account1)\n",
    "#accordingly used else        \n",
    "        else:\n",
    "            account1=account\n",
    "            print('Too low, your balance is: ',account1)\n",
    "        \n",
    "#exploring chance2 and managing rewards        \n",
    "        guess3=int(input('Please enter any random integer between 0 and 9: '))\n",
    "        if guess3==x3 and chance==2:\n",
    "            account2=account1+1000\n",
    "            print('You just won Rs 1000, your new balance is:', account2)\n",
    "#used else accordingly        \n",
    "        else:\n",
    "            account2=account1\n",
    "            print('Too high, your balance is: ', account2)\n",
    "    \n",
    "#exploring chance3 and letting user know his situation        \n",
    "        guess3=int(input('Please enter any random integer between 0 and 9: '))\n",
    "        if guess3==x3 and chance==3:\n",
    "            account3=account2\n",
    "            print('You saved your 500 Rs from going and your account balance is: ', account3)\n",
    "#making user aware about the 500 deduction        \n",
    "        else:\n",
    "            account3=account2-500\n",
    "            print('You lost and you new balance is:',account3)\n",
    "            break\n",
    "#again using while \n",
    "    while 1:\n",
    "#asking user if he wants to play again or not        \n",
    "        choice=str(input('Do you want to play another game, indicate by saying yes or no: '))\n",
    "        if choice=='yes':\n",
    "            problem()\n",
    "        elif choice=='no':\n",
    "            break\n",
    "        \n",
    "        "
   ]
  },
  {
   "cell_type": "code",
   "execution_count": 3,
   "metadata": {},
   "outputs": [
    {
     "name": "stdout",
     "output_type": "stream",
     "text": [
      "Your initial account balance and ewallet balance was:  200 5000\n",
      "Please enter the amount of money you want to withdraw: 500\n",
      "Now you are ready to play the game, your new account and ewallet balance is:  700 4500\n",
      "Please enter any random integer between 0 and 9: 5\n",
      "Your new account and ewallet balance is:  700 4500\n",
      "Too low, your balance is:  700\n",
      "Please enter any random integer between 0 and 9: 4\n",
      "Too high, your balance is:  700\n",
      "Please enter any random integer between 0 and 9: 2\n",
      "You lost and you new balance is: 200\n",
      "Do you want to play another game, indicate by saying yes or no: yes\n",
      "Your initial account balance and ewallet balance was:  200 5000\n",
      "Please enter the amount of money you want to withdraw: 100\n",
      "You still do not have enough money to start playing, your account and ewallet balance is:  300 4900\n",
      "Your initial account balance and ewallet balance was:  300 4900\n",
      "Please enter the amount of money you want to withdraw: 800\n",
      "Now you are ready to play the game, your new account and ewallet balance is:  1100 4100\n",
      "Please enter any random integer between 0 and 9: 4\n",
      "Your new account and ewallet balance is:  1100 4100\n",
      "Too low, your balance is:  1100\n",
      "Please enter any random integer between 0 and 9: 4\n",
      "Too high, your balance is:  1100\n",
      "Please enter any random integer between 0 and 9: 6\n",
      "You lost and you new balance is: 600\n",
      "Do you want to play another game, indicate by saying yes or no: no\n",
      "Do you want to play another game, indicate by saying yes or no: no\n"
     ]
    }
   ],
   "source": [
    "problem()"
   ]
  },
  {
   "cell_type": "code",
   "execution_count": null,
   "metadata": {},
   "outputs": [],
   "source": []
  }
 ],
 "metadata": {
  "kernelspec": {
   "display_name": "Python 3",
   "language": "python",
   "name": "python3"
  },
  "language_info": {
   "codemirror_mode": {
    "name": "ipython",
    "version": 3
   },
   "file_extension": ".py",
   "mimetype": "text/x-python",
   "name": "python",
   "nbconvert_exporter": "python",
   "pygments_lexer": "ipython3",
   "version": "3.7.6"
  }
 },
 "nbformat": 4,
 "nbformat_minor": 4
}
