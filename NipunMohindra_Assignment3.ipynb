{
 "cells": [
  {
   "cell_type": "markdown",
   "metadata": {},
   "source": [
    "## Question 1"
   ]
  },
  {
   "cell_type": "markdown",
   "metadata": {},
   "source": [
    "I have no idea what Pearson correlation coefficient is."
   ]
  },
  {
   "cell_type": "markdown",
   "metadata": {},
   "source": [
    "## Question 2"
   ]
  },
  {
   "cell_type": "code",
   "execution_count": 3,
   "metadata": {},
   "outputs": [
    {
     "name": "stdout",
     "output_type": "stream",
     "text": [
      "2 3 5 7 11 13 17 19 23 29 31 37 41 43 47 53 59 61 67 71 73 79 83 89 97 101 103 107 109 113 127 131 137 139 149 151 157 163 167 173 179 181 191 193 197 199 211 223 227 229 233 239 241 251 257 263 269 271 277 281 283 293 "
     ]
    }
   ],
   "source": [
    "start = 0  \n",
    "end = 300\n",
    " \n",
    "for i in range(start,end):   \n",
    "  if i>1:\n",
    "    for j in range(2,i):\n",
    "        if(i % j==0):       \n",
    "            break\n",
    "    else:\n",
    "        print(i, end = ' ')   "
   ]
  },
  {
   "cell_type": "markdown",
   "metadata": {},
   "source": [
    "## Question 3"
   ]
  },
  {
   "cell_type": "code",
   "execution_count": 5,
   "metadata": {},
   "outputs": [
    {
     "name": "stdout",
     "output_type": "stream",
     "text": [
      "Please enter the number: 7\n",
      "Multiplication table of 7\n",
      "7 * 1 = 7\n",
      "7 * 2 = 14\n",
      "7 * 3 = 21\n",
      "7 * 4 = 28\n",
      "7 * 5 = 35\n",
      "7 * 6 = 42\n",
      "7 * 7 = 49\n",
      "7 * 8 = 56\n",
      "7 * 9 = 63\n",
      "7 * 10 = 70\n"
     ]
    }
   ],
   "source": [
    "num = int(input(\"Please enter the number: \"))\n",
    "\n",
    "print(\"Multiplication table of\", num)\n",
    "\n",
    "for i in range(1, 11):   \n",
    "    print(num,\"*\",i,\"=\",num * i)  "
   ]
  },
  {
   "cell_type": "markdown",
   "metadata": {},
   "source": [
    "## Question 3"
   ]
  },
  {
   "cell_type": "code",
   "execution_count": 8,
   "metadata": {},
   "outputs": [
    {
     "name": "stdout",
     "output_type": "stream",
     "text": [
      "Please enter a number : 4\n",
      "Please enter a number : 5\n",
      "Please enter a number : nine\n",
      "Invalid Input\n",
      "Please enter a number : 7\n",
      "Please enter a number : done\n",
      "16.0 3 5.333333333333333\n"
     ]
    }
   ],
   "source": [
    "sum = 0\n",
    "count = 0\n",
    "\n",
    "while True:  \n",
    "    num = input(\"Please enter a number : \")\n",
    "    if num == 'done':\n",
    "        break\n",
    "        \n",
    "    try :\n",
    "        num1 = float(num)    \n",
    "        \n",
    "    except:\n",
    "        print('Invalid Input')   \n",
    "        continue\n",
    "        \n",
    "    sum = sum+1\n",
    "    count = count + num1\n",
    "    \n",
    "print (count, sum,count/sum)"
   ]
  },
  {
   "cell_type": "markdown",
   "metadata": {},
   "source": [
    "## Question 4"
   ]
  },
  {
   "cell_type": "code",
   "execution_count": 9,
   "metadata": {},
   "outputs": [
    {
     "name": "stdout",
     "output_type": "stream",
     "text": [
      "Please enter a number : 4\n"
     ]
    },
    {
     "ename": "TypeError",
     "evalue": "'float' object is not iterable",
     "output_type": "error",
     "traceback": [
      "\u001b[1;31m---------------------------------------------------------------------------\u001b[0m",
      "\u001b[1;31mTypeError\u001b[0m                                 Traceback (most recent call last)",
      "\u001b[1;32m<ipython-input-9-ba7e59cfb227>\u001b[0m in \u001b[0;36m<module>\u001b[1;34m\u001b[0m\n\u001b[0;32m     14\u001b[0m         \u001b[1;32mcontinue\u001b[0m\u001b[1;33m\u001b[0m\u001b[1;33m\u001b[0m\u001b[0m\n\u001b[0;32m     15\u001b[0m \u001b[1;33m\u001b[0m\u001b[0m\n\u001b[1;32m---> 16\u001b[1;33m     \u001b[0mmaximum\u001b[0m\u001b[1;33m=\u001b[0m\u001b[0mmax\u001b[0m\u001b[1;33m(\u001b[0m\u001b[0mnum1\u001b[0m\u001b[1;33m)\u001b[0m\u001b[1;33m\u001b[0m\u001b[1;33m\u001b[0m\u001b[0m\n\u001b[0m\u001b[0;32m     17\u001b[0m     \u001b[0mminimum\u001b[0m\u001b[1;33m=\u001b[0m\u001b[0mmin\u001b[0m\u001b[1;33m(\u001b[0m\u001b[0mnum1\u001b[0m\u001b[1;33m)\u001b[0m\u001b[1;33m\u001b[0m\u001b[1;33m\u001b[0m\u001b[0m\n\u001b[0;32m     18\u001b[0m \u001b[1;33m\u001b[0m\u001b[0m\n",
      "\u001b[1;31mTypeError\u001b[0m: 'float' object is not iterable"
     ]
    }
   ],
   "source": [
    "sum = 0\n",
    "count = 0\n",
    "\n",
    "while True:  \n",
    "    num = input(\"Please enter a number : \")\n",
    "    if num == 'done':\n",
    "        break\n",
    "        \n",
    "    try :\n",
    "        num1 = float(num)    \n",
    "        \n",
    "    except:\n",
    "        print('Invalid Input')   \n",
    "        continue\n",
    "        \n",
    "    maximum=max(num1)\n",
    "    minimum=min(num1)\n",
    "    \n",
    "print (count, sum,count/sum)"
   ]
  },
  {
   "cell_type": "code",
   "execution_count": null,
   "metadata": {},
   "outputs": [],
   "source": []
  },
  {
   "cell_type": "code",
   "execution_count": null,
   "metadata": {},
   "outputs": [],
   "source": []
  },
  {
   "cell_type": "code",
   "execution_count": null,
   "metadata": {},
   "outputs": [],
   "source": []
  },
  {
   "cell_type": "code",
   "execution_count": null,
   "metadata": {},
   "outputs": [],
   "source": []
  },
  {
   "cell_type": "code",
   "execution_count": null,
   "metadata": {},
   "outputs": [],
   "source": []
  },
  {
   "cell_type": "code",
   "execution_count": null,
   "metadata": {},
   "outputs": [],
   "source": []
  },
  {
   "cell_type": "code",
   "execution_count": null,
   "metadata": {},
   "outputs": [],
   "source": []
  },
  {
   "cell_type": "markdown",
   "metadata": {},
   "source": [
    "## Question 5"
   ]
  },
  {
   "cell_type": "code",
   "execution_count": null,
   "metadata": {},
   "outputs": [],
   "source": [
    "import random"
   ]
  },
  {
   "cell_type": "code",
   "execution_count": 15,
   "metadata": {},
   "outputs": [
    {
     "name": "stdout",
     "output_type": "stream",
     "text": [
      "Please enter any random integer between 0 and 9: 4\n",
      "Sorry, try again\n",
      "Please enter any random integer between 0 and 9: 7\n",
      "Sorry, try again\n",
      "Please enter any random integer between 0 and 9: 7\n",
      "Sorry, try again\n",
      "Please enter any random integer between 0 and 9: 7\n",
      "You got it right, Congo!\n"
     ]
    }
   ],
   "source": [
    "while 1:\n",
    "    guess=int(input('Please enter any random integer between 0 and 9: '))\n",
    "\n",
    "    x=random.randint(0,9)\n",
    "    if (guess!=x):\n",
    "        print('Sorry, try again')\n",
    "        continue\n",
    "    elif (guess==x):\n",
    "        print('You got it right, Congo!')\n",
    "        break \n",
    "        "
   ]
  },
  {
   "cell_type": "markdown",
   "metadata": {},
   "source": [
    "## Question 6"
   ]
  },
  {
   "cell_type": "code",
   "execution_count": 5,
   "metadata": {},
   "outputs": [
    {
     "name": "stdout",
     "output_type": "stream",
     "text": [
      "Please enter any random integer between 0 and 9: 1\n",
      "Too low\n",
      "Please enter any random integer between 0 and 9: 7\n",
      "Too high\n",
      "Please enter any random integer between 0 and 9: 5\n",
      "Too high\n"
     ]
    }
   ],
   "source": [
    "attempt=0\n",
    "x2=random.randint(0,9)\n",
    "\n",
    "while (attempt<3):\n",
    "    guess2=int(input('Please enter any random integer between 0 and 9: '))\n",
    "    attempt=attempt+1\n",
    "    if (guess2<x2):\n",
    "        print('Too low')\n",
    "    elif (guess2>x2):\n",
    "        print('Too high')\n",
    "    else:\n",
    "        print('You lost the game')\n",
    "        \n",
    "    "
   ]
  },
  {
   "cell_type": "markdown",
   "metadata": {},
   "source": [
    "## Question 7"
   ]
  },
  {
   "cell_type": "code",
   "execution_count": 15,
   "metadata": {},
   "outputs": [
    {
     "name": "stdout",
     "output_type": "stream",
     "text": [
      "Please enter any random integer between 0 and 9: 5\n",
      "You have a cash of Rs 1000 with you\n",
      "Too low 1000\n",
      "Please enter any random integer between 0 and 9: 4\n",
      "Too high 1000\n",
      "Please enter any random integer between 0 and 9: 3\n",
      "You lost and you new balance is: 500\n"
     ]
    }
   ],
   "source": [
    "chance=0\n",
    "x3=random.randint(0,9)\n",
    "\n",
    "while chance<3:\n",
    "    initial_money=1000\n",
    "    chance=chance+1\n",
    "    guess3=int(input('Please enter any random integer between 0 and 9: '))\n",
    "    print('You have a cash of Rs 1000 with you')\n",
    "    \n",
    "    if guess3==x3 and chance==1:\n",
    "        balance=initial_money+5000\n",
    "        print('You just won Rs 5000, your new balance is:', balance)\n",
    "    else:\n",
    "        balance=initial_money\n",
    "        print('Too low',balance)\n",
    "        \n",
    "    guess3=int(input('Please enter any random integer between 0 and 9: '))\n",
    "    if guess3==x3 and chance==2:\n",
    "        balance1=balance+1000\n",
    "        print('You just won Rs 1000, your new balance is:', balance1)\n",
    "    else:\n",
    "        balance1=balance\n",
    "        print('Too high', balance1)\n",
    "    \n",
    "    guess3=int(input('Please enter any random integer between 0 and 9: '))\n",
    "    if guess3==x3 and chance==3:\n",
    "        balance2=balance1\n",
    "        print('You saved your 500 Rs from going',balance2)\n",
    "    else:\n",
    "        balance2=balance1-500\n",
    "        print('You lost and you new balance is:',balance2)\n",
    "        break\n",
    "        "
   ]
  },
  {
   "cell_type": "code",
   "execution_count": null,
   "metadata": {},
   "outputs": [],
   "source": []
  }
 ],
 "metadata": {
  "kernelspec": {
   "display_name": "Python 3",
   "language": "python",
   "name": "python3"
  },
  "language_info": {
   "codemirror_mode": {
    "name": "ipython",
    "version": 3
   },
   "file_extension": ".py",
   "mimetype": "text/x-python",
   "name": "python",
   "nbconvert_exporter": "python",
   "pygments_lexer": "ipython3",
   "version": "3.7.6"
  }
 },
 "nbformat": 4,
 "nbformat_minor": 4
}
