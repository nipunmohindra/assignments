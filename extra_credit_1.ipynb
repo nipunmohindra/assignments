{
 "cells": [
  {
   "cell_type": "code",
   "execution_count": 2,
   "metadata": {},
   "outputs": [],
   "source": [
    "#predifining the wait function here, code given by sir\n",
    "def wait():\n",
    "    import sys\n",
    "    import time\n",
    "    for remaining in range(10, 0, -1):\n",
    "        sys.stdout.write(\"\\r%d seconds remaining.\" %remaining)\n",
    "        time.sleep(1)\n",
    "        \n",
    "        "
   ]
  },
  {
   "cell_type": "code",
   "execution_count": 3,
   "metadata": {},
   "outputs": [
    {
     "name": "stdout",
     "output_type": "stream",
     "text": [
      "Enter the password: l\n",
      "Enter the password: p\n",
      "Enter the password: p\n",
      "Enter the password: p\n",
      "Enter the password: p\n",
      "You exhausted your 5 chances\n",
      "1 seconds remaining..Enter the password: o\n",
      "Enter the password: 9\n",
      "Enter the password: l\n",
      "Enter the password: k\n",
      "Enter the password: k\n",
      "You exhuasted your 5 chances again\n",
      "1 seconds remaining..Enter the password: h\n",
      "Enter the password: k\n",
      "Enter the password: k\n",
      "Enter the password: k\n",
      "Enter the password: k\n",
      "You yet again exhausted your 5 chances\n",
      "1 seconds remaining..Enter the password: g\n",
      "Enter the password: forgot\n",
      "Hint: bla bla bla\n",
      "Enter the password: secret\n"
     ]
    }
   ],
   "source": [
    "#taking initial conditions of counter to be 0 and password to be guessed\n",
    "password=''\n",
    "counter=0\n",
    "#using while function by stating till the password is not secret until then \n",
    "while password !='secret':\n",
    "    #making the user input password\n",
    "    password=input('Enter the password: ')\n",
    "    #this chance will not be counted into counter because of the fact that it is a hint and we used continue\n",
    "    if password=='forgot':\n",
    "        print('Hint: bla bla bla')\n",
    "        #breaks the loop and moves upwards towards the while function again, beautiful way to change trajectories in a program\n",
    "        continue\n",
    "        \n",
    "    #adding counter function after each legal individual attempt\n",
    "    counter=counter+1\n",
    "    #when the count reaches 5 it's alarming\n",
    "    if counter==5:\n",
    "        #we lost our 5 chances and henceforth te message \n",
    "        print('You exhausted your 5 chances')\n",
    "        #this is where logic comes in, our predefined wait function is used to punish the user for 10 seconds as he entered wrong password 5 times\n",
    "        wait()\n",
    "        #again breaking the loop and goinf back up\n",
    "        continue\n",
    "        #now user again used his 5 chances\n",
    "    elif counter==10:\n",
    "        print('You exhuasted your 5 chances again')\n",
    "        #made him wait 10 seconds again for his mistake\n",
    "        wait()\n",
    "        continue\n",
    "        #another 5 chances wasted\n",
    "    elif counter==15:\n",
    "        #hence the message printed\n",
    "        print('You yet again exhausted your 5 chances')\n",
    "        #made him wait for 10 seconds again\n",
    "        wait()\n",
    "        continue\n",
    "    \n",
    "    #In this program I have given thw wait message in the count difference of 5; eg:(5-10-15) I'm not sure if we had to do it for each multiple of 5\n",
    "    #I was not sure if we had to do this after 15 chances also, would ahve used a for loop if that was the case.\n",
    "    #Thank you\n",
    "                    "
   ]
  },
  {
   "cell_type": "code",
   "execution_count": 5,
   "metadata": {},
   "outputs": [],
   "source": []
  },
  {
   "cell_type": "code",
   "execution_count": null,
   "metadata": {},
   "outputs": [],
   "source": []
  }
 ],
 "metadata": {
  "kernelspec": {
   "display_name": "Python 3",
   "language": "python",
   "name": "python3"
  },
  "language_info": {
   "codemirror_mode": {
    "name": "ipython",
    "version": 3
   },
   "file_extension": ".py",
   "mimetype": "text/x-python",
   "name": "python",
   "nbconvert_exporter": "python",
   "pygments_lexer": "ipython3",
   "version": "3.7.6"
  }
 },
 "nbformat": 4,
 "nbformat_minor": 4
}
